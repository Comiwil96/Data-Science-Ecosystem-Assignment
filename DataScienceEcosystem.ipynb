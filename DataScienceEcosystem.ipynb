{
 "cells": [
  {
   "cell_type": "code",
   "execution_count": null,
   "id": "29e75722-f64d-46f4-a1ee-39264befbe6a",
   "metadata": {},
   "outputs": [],
   "source": [
    "## Exercise 2: Create a markdown cell with the title of the notebook"
   ]
  },
  {
   "cell_type": "markdown",
   "id": "c4972300-a6be-4b89-bbfc-f69dd66e63a8",
   "metadata": {},
   "source": [
    "# Data Science Tools and Ecosystem"
   ]
  },
  {
   "cell_type": "code",
   "execution_count": null,
   "id": "9fd0d1a9-5962-4513-8d03-4a8cd9da2bd4",
   "metadata": {},
   "outputs": [],
   "source": [
    "## Exercise 11: Create a markdown cell to indicate the Authors name"
   ]
  },
  {
   "cell_type": "markdown",
   "id": "58ed4396-1fb7-4e7f-ad5d-042a2f5611f0",
   "metadata": {},
   "source": [
    "## Cody Wilson"
   ]
  },
  {
   "cell_type": "code",
   "execution_count": null,
   "id": "a7a51331-8c95-44c7-829c-bb18b3b5def3",
   "metadata": {},
   "outputs": [],
   "source": [
    "## Exercise 3: Create a markdown cell for an introduction"
   ]
  },
  {
   "cell_type": "markdown",
   "id": "9f54d5c4-8d25-4c68-aafb-03d9e12235c8",
   "metadata": {},
   "source": [
    "##### Data Science Tools and Ecosystem are summarized."
   ]
  },
  {
   "cell_type": "code",
   "execution_count": null,
   "id": "6751324e-28d5-47a5-9cfb-37bc95c49714",
   "metadata": {},
   "outputs": [],
   "source": [
    "## Exercise 10: Insert a markdown cell to list Objectives below exercise 3"
   ]
  },
  {
   "cell_type": "markdown",
   "id": "560ae13f-cd77-4f82-826f-00d171114861",
   "metadata": {},
   "source": [
    "__Objectives__\n",
    "\n",
    "- List and understand languages used in Data Science\n",
    "- Understand open source tool boards commonly used in Data Science\n",
    "- List and understand the strengths of various libraries used by data scientists\n",
    "- Become familiar with repositories such as GitHub\n",
    "- Become familiar with Jupyter Notebook and R Studios"
   ]
  },
  {
   "cell_type": "code",
   "execution_count": null,
   "id": "275ccc99-f357-4fd3-bf7f-583c74232984",
   "metadata": {},
   "outputs": [],
   "source": [
    "## Exercise 4: Create a markdown cell to list data science languages"
   ]
  },
  {
   "cell_type": "markdown",
   "id": "56a9c4b8-ed5e-4ea8-aea9-9bc83feffb99",
   "metadata": {},
   "source": [
    "__Some of the more popular languages that Data Scientists use are:__\n",
    "\n",
    "1) Python\n",
    "2) R\n",
    "3) SQL\n",
    "4) Julia\n",
    "5) Scala"
   ]
  },
  {
   "cell_type": "code",
   "execution_count": null,
   "id": "8a8247e4-fd16-4015-abe6-0f3292af0956",
   "metadata": {},
   "outputs": [],
   "source": [
    "## Exercise 5: Create a markdown cell to list data science libraries"
   ]
  },
  {
   "cell_type": "markdown",
   "id": "ddce0a35-2afd-4ee8-891b-80cb3811085f",
   "metadata": {},
   "source": [
    "__Some of the more commonly used libraries utilized by Data Scientists include:__\n",
    "\n",
    "1) Tensorflow\n",
    "2) Pandas\n",
    "3) NumPy\n",
    "4) Keras\n",
    "5) Matplotlib"
   ]
  },
  {
   "cell_type": "code",
   "execution_count": null,
   "id": "b9d6bdd5-f5ea-4167-a9bb-6409f935bc81",
   "metadata": {},
   "outputs": [],
   "source": [
    "## Exercise 6: Create a markdown cell with a table of Data Science Tools"
   ]
  },
  {
   "cell_type": "markdown",
   "id": "6b91cf21-9677-4327-b4ac-49d9bba9b9ed",
   "metadata": {},
   "source": [
    "| Data Science Tools |\n",
    "|--------------------|\n",
    "| Jupyter Notebook |\n",
    "| R Studio |\n",
    "| Spyder |"
   ]
  },
  {
   "cell_type": "code",
   "execution_count": null,
   "id": "ba900257-869b-410e-8ebc-71af263403e5",
   "metadata": {},
   "outputs": [],
   "source": [
    "## Exercise 7: Create a markdown cell introducing arithmetic expression examples"
   ]
  },
  {
   "cell_type": "markdown",
   "id": "c467c403-67ee-405a-b172-9cb710a2006e",
   "metadata": {},
   "source": [
    "### Below are a few examples of evaluating arithmetic expressions in Python."
   ]
  },
  {
   "cell_type": "code",
   "execution_count": null,
   "id": "eb58d889-16ea-4a15-bb22-e172202ed031",
   "metadata": {},
   "outputs": [],
   "source": [
    "## Exercise 8 - Create a code cell to multiply and add numbers"
   ]
  },
  {
   "cell_type": "code",
   "execution_count": 1,
   "id": "9182f94f-7f00-4693-b10b-3f1ea5abc800",
   "metadata": {
    "tags": []
   },
   "outputs": [
    {
     "data": {
      "text/plain": [
       "17"
      ]
     },
     "execution_count": 1,
     "metadata": {},
     "output_type": "execute_result"
    }
   ],
   "source": [
    "## This is a simple arithmetic expression to multiply then add integers\n",
    "(3*4)+5"
   ]
  },
  {
   "cell_type": "code",
   "execution_count": null,
   "id": "63907c1c-bc75-4fc0-9367-f3524c23a622",
   "metadata": {},
   "outputs": [],
   "source": [
    "## Exercise 9: Create a code cell to convert minutes to hours"
   ]
  },
  {
   "cell_type": "code",
   "execution_count": 2,
   "id": "8c4f7d5c-786b-4831-a898-5acbb284c3cc",
   "metadata": {
    "tags": []
   },
   "outputs": [
    {
     "data": {
      "text/plain": [
       "3.3333333333333335"
      ]
     },
     "execution_count": 2,
     "metadata": {},
     "output_type": "execute_result"
    }
   ],
   "source": [
    "## This will convert 200 minutes to hours by diving by 60\n",
    "\n",
    "200/60"
   ]
  }
 ],
 "metadata": {
  "kernelspec": {
   "display_name": "Python",
   "language": "python",
   "name": "conda-env-python-py"
  },
  "language_info": {
   "codemirror_mode": {
    "name": "ipython",
    "version": 3
   },
   "file_extension": ".py",
   "mimetype": "text/x-python",
   "name": "python",
   "nbconvert_exporter": "python",
   "pygments_lexer": "ipython3",
   "version": "3.7.12"
  }
 },
 "nbformat": 4,
 "nbformat_minor": 5
}
